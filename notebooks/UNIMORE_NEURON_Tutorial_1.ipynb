{
  "nbformat": 4,
  "nbformat_minor": 0,
  "metadata": {
    "colab": {
      "provenance": []
    },
    "kernelspec": {
      "name": "python3",
      "display_name": "Python 3"
    },
    "language_info": {
      "name": "python"
    }
  },
  "cells": [
    {
      "cell_type": "markdown",
      "source": [
        "# Single compartmental model - passive soma\n",
        "\n",
        "We define and then numerically simulate a single compartment, made of a passive membrane equipped by only *leak* (i.e., non voltage-dependent) ion channels. A current-clamp microelectrode, stimulating intracellularly by a step-wise DC waveform of amplitude $I_{stim}(t)$ is also *inserted* inside the membrane and used to stimulate the compartment.\n",
        "\n",
        "The membrane potential $V$ evolves in time according to the usual ordinary differential equation:\n",
        "\n",
        "$C \\frac{dV(t)}{dt}\\ = \\ G_{leak} (E_{leak} - V) + I_{stim}$\n",
        "\n",
        "The initial condition is also provided\n",
        "\n",
        "$V(0) = -70 mV$"
      ],
      "metadata": {
        "id": "iKMl-z0H4PMg"
      }
    },
    {
      "cell_type": "code",
      "source": [
        "#@title NEURON install (launch only once)\n",
        "# Note: Google Colab gives you access to an \"instance\".\n",
        "# This is a virtual machine (\"container\" would be more correct) that runs\n",
        "# Linux with already a Python installation.\n",
        "!pip install neuron"
      ],
      "metadata": {
        "colab": {
          "base_uri": "https://localhost:8080/"
        },
        "cellView": "form",
        "id": "NdSKtN6aqiv8",
        "outputId": "2dfa1657-3e08-4b54-8777-7e5824a3c1b9"
      },
      "execution_count": 1,
      "outputs": [
        {
          "output_type": "stream",
          "name": "stdout",
          "text": [
            "Collecting neuron\n",
            "  Downloading neuron-9.0.0-cp312-cp312-manylinux_2_27_x86_64.manylinux_2_28_x86_64.whl.metadata (6.5 kB)\n",
            "Collecting find-libpython<=0.4 (from neuron)\n",
            "  Downloading find_libpython-0.4.0-py3-none-any.whl.metadata (2.8 kB)\n",
            "Requirement already satisfied: numpy<=2.2.3,>=1.9.3 in /usr/local/lib/python3.12/dist-packages (from neuron) (2.0.2)\n",
            "Requirement already satisfied: packaging<=25.0,>=22.0 in /usr/local/lib/python3.12/dist-packages (from neuron) (25.0)\n",
            "Requirement already satisfied: setuptools<=80.8.0 in /usr/local/lib/python3.12/dist-packages (from neuron) (75.2.0)\n",
            "Requirement already satisfied: sympy<=1.13.3,>=1.3 in /usr/local/lib/python3.12/dist-packages (from neuron) (1.13.3)\n",
            "Requirement already satisfied: mpmath<1.4,>=1.1.0 in /usr/local/lib/python3.12/dist-packages (from sympy<=1.13.3,>=1.3->neuron) (1.3.0)\n",
            "Downloading neuron-9.0.0-cp312-cp312-manylinux_2_27_x86_64.manylinux_2_28_x86_64.whl (18.1 MB)\n",
            "\u001b[2K   \u001b[90m━━━━━━━━━━━━━━━━━━━━━━━━━━━━━━━━━━━━━━━━\u001b[0m \u001b[32m18.1/18.1 MB\u001b[0m \u001b[31m46.5 MB/s\u001b[0m eta \u001b[36m0:00:00\u001b[0m\n",
            "\u001b[?25hDownloading find_libpython-0.4.0-py3-none-any.whl (8.7 kB)\n",
            "Installing collected packages: find-libpython, neuron\n",
            "Successfully installed find-libpython-0.4.0 neuron-9.0.0\n"
          ]
        }
      ]
    },
    {
      "cell_type": "code",
      "execution_count": 44,
      "metadata": {
        "cellView": "form",
        "id": "K0DRIR7JqWNI"
      },
      "outputs": [],
      "source": [
        "#@title NEURON and other Python Libraries import\n",
        "from neuron import n\n",
        "import matplotlib.pyplot as plt\n",
        "\n",
        "# run standard library for high-level simulation control functions\n",
        "n.load_file(\"stdrun.hoc\")\n",
        "\n",
        "# Only in a jupyter notebook / jupyter lab environment\n",
        "%matplotlib inline"
      ]
    },
    {
      "cell_type": "code",
      "source": [
        "#@title Define and create the model\n",
        "# create model\n",
        "soma  = n.Section(name=\"soma\")\n",
        "soma.L  = 10            # length µm\n",
        "soma.diam = 10          # diameter µm\n",
        "soma.insert('pas')      # add passive properties\n",
        "soma.g_pas = 1/10000    # set the specific membrane\n",
        "                        # resistance to 10000 ohm*cm^2\n",
        "# current clamp\n",
        "stim = n.IClamp(soma(0.5))\n",
        "stim.delay = 20         # start of the current injection (ms)\n",
        "stim.dur  = 100         # duration (ms)\n",
        "stim.amp  = 0.01        # amplitude (nA)\n",
        "\n",
        "# record voltage at the soma, the injected current, and the time\n",
        "soma_v = n.Vector()\n",
        "soma_v.record(soma(0.5)._ref_v)\n",
        "\n",
        "stim_current = n.Vector()\n",
        "stim_current.record(stim._ref_i)\n",
        "\n",
        "t = n.Vector()\n",
        "t.record(n._ref_t)"
      ],
      "metadata": {
        "colab": {
          "base_uri": "https://localhost:8080/"
        },
        "cellView": "form",
        "id": "AREJfFRhtyie",
        "outputId": "e3604e2d-27a4-43d3-be7e-94840342733d"
      },
      "execution_count": 45,
      "outputs": [
        {
          "output_type": "execute_result",
          "data": {
            "text/plain": [
              "Vector[11]"
            ]
          },
          "metadata": {},
          "execution_count": 45
        }
      ]
    },
    {
      "cell_type": "code",
      "source": [
        "#@title Run the numerical simulation { run: \"auto\" }\n",
        "\n",
        "n.t = 0\n",
        "n.tstop = 220 # set the simulation time\n",
        "n.dt = 0.025\n",
        "n.v_init = -70\n",
        "stim.amp = 0.003 #@param {type:\"slider\", min:-0.005, max:0.02, step:0.001}\n",
        "\n",
        "n.run()\n",
        "\n",
        "\n",
        "\n",
        "# plotting\n",
        "f, (ax0, ax1) = plt.subplots(2,1, gridspec_kw = {'height_ratios':[3, 1]})\n",
        "ax0.plot(t,soma_v, 'k')\n",
        "ax1.plot(t,stim_current, 'gray', label='I (nA)')\n",
        "\n",
        "ax0.set_ylabel('Memrabe Potential (mV)')\n",
        "ax1.set_xlabel('Time (ms)')\n",
        "ax1.set_ylabel('Current Injected (nA)')\n",
        "ax0.set_ylim([-80, 0])"
      ],
      "metadata": {
        "colab": {
          "base_uri": "https://localhost:8080/",
          "height": 492
        },
        "cellView": "form",
        "id": "E-fW1-mIsExZ",
        "outputId": "b5552fb9-2352-4bfa-cc61-b9f6112444fa"
      },
      "execution_count": 48,
      "outputs": [
        {
          "output_type": "execute_result",
          "data": {
            "text/plain": [
              "(-80.0, 0.0)"
            ]
          },
          "metadata": {},
          "execution_count": 48
        },
        {
          "output_type": "display_data",
          "data": {
            "text/plain": [
              "<Figure size 640x480 with 2 Axes>"
            ],
            "image/png": "[encoded data removed]"
          },
          "metadata": {}
        }
      ]
    },
    {
      "cell_type": "code",
      "source": [],
      "metadata": {
        "id": "gvGlnpHL3h6C"
      },
      "execution_count": null,
      "outputs": []
    }
  ]
}