{
  "nbformat": 4,
  "nbformat_minor": 0,
  "metadata": {
    "colab": {
      "provenance": []
    },
    "kernelspec": {
      "name": "python3",
      "display_name": "Python 3"
    },
    "language_info": {
      "name": "python"
    }
  },
  "cells": [
    {
      "cell_type": "markdown",
      "source": [
        "# Single compartmental model - active soma\n",
        "\n",
        "We define and then numerically simulate a single compartment, made of a membrane equipped with both *leak* (i.e., non voltage-dependent) ion channels as well as *active* (i.e., voltage-gated) sodium and potassium conductances. A current-clamp microelectrode, stimulating intracellularly by a step-wise DC waveform of amplitude $I_{stim}(t)$ is also *inserted* inside the membrane and used to stimulate the compartment.\n",
        "\n",
        "The membrane potential $V$ evolves in time according to a system of 4 ordinary differential equations coupled together:\n",
        "\n",
        "$C \\frac{dV(t)}{dt}\\ = \\ G_{leak} (E_{leak} - V) + G_{Na} m^3 h (E_{Na} - V) + G_{K} n^4 (E_{K} - V) + I_{dend} + I_{stim}$\n",
        "\n",
        "$\\frac{dn}{dt}\\ = \\ \\alpha_n (1 - n) - \\beta_n n$\n",
        "\n",
        "$\\frac{dm}{dt}\\ = \\ \\alpha_m (1 - m) - \\beta_m m$\n",
        "\n",
        "$\\frac{dh}{dt}\\ = \\ \\alpha_h (1 - h) - \\beta_h h$\n",
        "\n",
        "\n",
        "The initial condition is also provided\n",
        "\n",
        "$V(0) = -70 mV$"
      ],
      "metadata": {
        "id": "iKMl-z0H4PMg"
      }
    },
    {
      "cell_type": "code",
      "source": [
        "#@title NEURON install (launch only once)\n",
        "# Note: Google Colab gives you access to an \"instance\".\n",
        "# This is a virtual machine (\"container\" would be more correct) that runs\n",
        "# Linux with already a Python installation.\n",
        "!pip install neuron"
      ],
      "metadata": {
        "colab": {
          "base_uri": "https://localhost:8080/"
        },
        "cellView": "form",
        "id": "NdSKtN6aqiv8",
        "outputId": "2dfa1657-3e08-4b54-8777-7e5824a3c1b9"
      },
      "execution_count": 1,
      "outputs": [
        {
          "output_type": "stream",
          "name": "stdout",
          "text": [
            "Collecting neuron\n",
            "  Downloading neuron-9.0.0-cp312-cp312-manylinux_2_27_x86_64.manylinux_2_28_x86_64.whl.metadata (6.5 kB)\n",
            "Collecting find-libpython<=0.4 (from neuron)\n",
            "  Downloading find_libpython-0.4.0-py3-none-any.whl.metadata (2.8 kB)\n",
            "Requirement already satisfied: numpy<=2.2.3,>=1.9.3 in /usr/local/lib/python3.12/dist-packages (from neuron) (2.0.2)\n",
            "Requirement already satisfied: packaging<=25.0,>=22.0 in /usr/local/lib/python3.12/dist-packages (from neuron) (25.0)\n",
            "Requirement already satisfied: setuptools<=80.8.0 in /usr/local/lib/python3.12/dist-packages (from neuron) (75.2.0)\n",
            "Requirement already satisfied: sympy<=1.13.3,>=1.3 in /usr/local/lib/python3.12/dist-packages (from neuron) (1.13.3)\n",
            "Requirement already satisfied: mpmath<1.4,>=1.1.0 in /usr/local/lib/python3.12/dist-packages (from sympy<=1.13.3,>=1.3->neuron) (1.3.0)\n",
            "Downloading neuron-9.0.0-cp312-cp312-manylinux_2_27_x86_64.manylinux_2_28_x86_64.whl (18.1 MB)\n",
            "\u001b[2K   \u001b[90m━━━━━━━━━━━━━━━━━━━━━━━━━━━━━━━━━━━━━━━━\u001b[0m \u001b[32m18.1/18.1 MB\u001b[0m \u001b[31m46.5 MB/s\u001b[0m eta \u001b[36m0:00:00\u001b[0m\n",
            "\u001b[?25hDownloading find_libpython-0.4.0-py3-none-any.whl (8.7 kB)\n",
            "Installing collected packages: find-libpython, neuron\n",
            "Successfully installed find-libpython-0.4.0 neuron-9.0.0\n"
          ]
        }
      ]
    },
    {
      "cell_type": "code",
      "source": [
        "#@title Create locally a *.mod file for Nav - launch only once\n",
        "# Taken from ModelDB\n",
        "# https://modeldb.science/184139?tab=2&file=HyunEtAl2015/Na.mod\n",
        "%%writefile nav.mod\n",
        "TITLE Na\n",
        "\n",
        "COMMENT\n",
        "\n",
        "This file is based on na16.mod of Hu et al. (nn, 2009)\n",
        "\n",
        "******************************************************\n",
        "Sodium channel, Hodgkin-Huxley style kinetics.\n",
        "\n",
        "Kinetics were fit to data from Huguenard et al. (1988) and Hamill et al. (1991)\n",
        "\n",
        "qi is not well constrained by the data, since there are no points between -80 and -55.  So this was fixed at 5\n",
        "while the thi1, thi2, Rg, Rd were optimized using a simplex least square proc\n",
        "\n",
        "voltage dependencies are shifted approximately from the best fit to give higher threshold\n",
        "\n",
        "Author: Zach Mainen, Salk Institute, 1994, zach@salk.edu\n",
        "******************************************************\n",
        "\n",
        "SHL modified as follows:\n",
        " 1-1) qa: 6 -> 8\n",
        " 1-2) qinf: 6.2 -> 8 mV, since qa and qinf = 8 mV  (Kim Jonas nn 12).\n",
        " cf. qa and qinf = 5.8 and 7.1 in Hu Shu nn 09\n",
        " 2) tha, -43 -> -38 (Kim Jonas nn 12)\n",
        " 3) use cnexp as an integration mtd\n",
        "SHL End\n",
        "\n",
        "ENDCOMMENT\n",
        "\n",
        "INDEPENDENT {t FROM 0 TO 1 WITH 1 (ms)}\n",
        "\n",
        "NEURON {\n",
        "\tSUFFIX Na\n",
        "\tUSEION na READ ena WRITE ina\n",
        "\tRANGE m, h, gna, gbar\n",
        "\tGLOBAL tha, thi1, thi2, qa, qi, qinf, thinf\n",
        "\tRANGE minf, hinf, mtau, htau\n",
        "\tGLOBAL Ra, Rb, Rd, Rg\n",
        "\tGLOBAL q10, temp, tadj, vmin, vmax, vshift\n",
        "}\n",
        "\n",
        "PARAMETER {\n",
        "\tgbar = 0.01   \t(mS/cm2)\n",
        "\tvshift = 0\t(mV)\t\t: voltage shift (affects all)\n",
        "\n",
        "\ttha  = -38\t(mV)\t\t: v 1/2 for act curve\n",
        "\tqa   = 8\t(mV)\t\t: act slope\n",
        "\tRa   = 0.182\t(/ms)\t: prop const of alpha_m (/ms)\n",
        "\tRb   = 0.124\t(/ms)\t: prop const of beta_m (/ms)\n",
        "\n",
        "\tthi1  = -50\t(mV)\t\t: v shift of alpha_h\n",
        "\tthi2  = -75\t(mV)\t\t: v shift of beta_h\n",
        "\tqi   = 5\t(mV)\t    : inact tau slope\n",
        "\tthinf  = -73\t(mV)\t: v1/2 of inact curve\n",
        "\tqinf  = 8\t(mV)\t\t: Slope of inact curve; 6.2 -> 8\n",
        "\tRg   = 0.0091\t(/ms)\t: prop const of beta_h(v)\n",
        "\tRd   = 0.024\t(/ms)\t: prop const of alpha_h(v)\n",
        "\n",
        "\ttemp = 30\t(degC)\t\t: original temp\n",
        "\tq10  = 2.3\t\t\t: temperature sensitivity\n",
        "\n",
        "\tv \t\t(mV)\n",
        "\tdt\t\t(ms)\n",
        "\tcelsius\t\t(degC)\n",
        "\tvmin = -120\t(mV)\n",
        "\tvmax = 100\t(mV)\n",
        "}\n",
        "\n",
        "\n",
        "UNITS {\n",
        "\t(mA) = (milliamp)\n",
        "\t(mV) = (millivolt)\n",
        "\t(pS) = (picosiemens)\n",
        "\t(um) = (micron)\n",
        "}\n",
        "\n",
        "ASSIGNED {\n",
        "\tina \t(mA/cm2)\n",
        "\tgna\t\t(pS/um2)\n",
        "\tena\t\t(mV)\n",
        "\tminf \t\thinf\n",
        "\tmtau (ms)\thtau (ms)\n",
        "\ttadj\n",
        "}\n",
        "\n",
        "\n",
        "STATE { m h }\n",
        "\n",
        "INITIAL {\n",
        "\trates(v+vshift)\n",
        "\tm = minf\n",
        "\th = hinf\n",
        "\ttadj = q10^((celsius - temp)/10)\n",
        "}\n",
        "\n",
        "BREAKPOINT {\n",
        "    SOLVE states METHOD cnexp\n",
        "    gna = tadj*gbar*m*m*m*h\n",
        "\tina = gna * (v - ena)\n",
        "}\n",
        "\n",
        "DERIVATIVE states {\n",
        "    rates(v+vshift)      :   at the current v and dt.\n",
        "    m' = (minf-m)*tadj/mtau\n",
        "    h' = (hinf-h)*tadj/htau\n",
        "}\n",
        "\n",
        "\n",
        "\n",
        "PROCEDURE rates(vm) {\n",
        "    LOCAL  a, b\n",
        "\n",
        "\ta = trap0(vm,tha,Ra,qa)\n",
        "\tb = trap0(-vm,-tha,Rb,qa)\n",
        "\tmtau = 1/(a+b)\n",
        "\tminf = a*mtau\n",
        "\n",
        "\t:\"h\" inactivation\n",
        "\n",
        "\ta = trap0(vm,thi1,Rd,qi)\n",
        "\tb = trap0(-vm,-thi2,Rg,qi)\n",
        "\thtau = 1/(a+b)\n",
        "\thinf = 1/(1+exp((vm-thinf)/qinf))\n",
        "}\n",
        "\n",
        "\n",
        "FUNCTION trap0(v,th,a,q) {\n",
        "\tif (fabs(v-th) > 1e-6) {\n",
        "\t    trap0 = a * (v - th) / (1 - exp(-(v - th)/q))\n",
        "\t} else {\n",
        "\t    trap0 = a * q\n",
        " \t}\n",
        "}"
      ],
      "metadata": {
        "colab": {
          "base_uri": "https://localhost:8080/"
        },
        "cellView": "form",
        "id": "ublMLZrQ5k1t",
        "outputId": "8a492cfa-e6ed-4fa2-c157-e3d6757b6e52"
      },
      "execution_count": 51,
      "outputs": [
        {
          "output_type": "stream",
          "name": "stdout",
          "text": [
            "Writing nav.mod\n"
          ]
        }
      ]
    },
    {
      "cell_type": "code",
      "source": [
        "#@title Create locally a *.mod file for Kv - launch only once\n",
        "# Taken from ModelDB\n",
        "# https://modeldb.science/184139?tab=2&file=HyunEtAl2015/Na.mod\n",
        "%%writefile kdr.mod\n",
        "\n",
        "TITLE K-DR channel\n",
        ": from Klee Ficker and Heinemann\n",
        ": modified to account for Dax et al.\n",
        ": M.Migliore 1997\n",
        ": LSH changed\n",
        ": 1) gmn from 0.7 to 0.5 to make tau faster\n",
        ": 2) vhalfn, 13 -> -3.8 (Kim Jonas, 2012)\n",
        "\n",
        "UNITS {\n",
        "\t(mA) = (milliamp)\n",
        "\t(mV) = (millivolt)\n",
        "}\n",
        "\n",
        "PARAMETER {\n",
        "\tv \t\t(mV)\n",
        "\tcelsius \t(degC)\n",
        "\tgbar\t= .003 \t(mho/cm2)\n",
        "    vhalfn\t= -3.8   \t(mV)\n",
        "    a0n\t= 0.02  (/ms)\n",
        "    zetan\t= -3    (1)\n",
        "    gmn\t= 0.5  \t(1)\n",
        "\tnmax\t= 2  \t(1)\n",
        "\tq10\t= 1\t(1)\n",
        "\tFRT = 39 (coulombs/joule)\n",
        "}\n",
        "\n",
        "NEURON {\n",
        "\tSUFFIX Kdr\n",
        "\tUSEION k WRITE ik\n",
        "    RANGE  gkdr,gbar,ik\n",
        "\tGLOBAL ninf,taun\n",
        "}\n",
        "\n",
        "STATE { n }\n",
        "\n",
        "ASSIGNED {\n",
        "\tik \t(mA/cm2)\n",
        "    ninf\n",
        "    gkdr\n",
        "    taun\n",
        "}\n",
        "\n",
        "BREAKPOINT {\n",
        "\tSOLVE states METHOD cnexp\n",
        "\tgkdr \t= gbar * n\n",
        "\tik \t= gkdr * ( v + 90.0 )\n",
        "}\n",
        "\n",
        "INITIAL {\n",
        "\trates(v)\n",
        "\tn=ninf\n",
        "}\n",
        "\n",
        "FUNCTION alpn(v(mV)) {\n",
        "  alpn = exp( 1.e-3 * zetan * ( v - vhalfn ) * FRT )\n",
        "}\n",
        "\n",
        "FUNCTION betn(v(mV)) {\n",
        "  betn = exp( 1.e-3 * zetan * gmn * ( v - vhalfn ) * FRT )\n",
        "}\n",
        "\n",
        "DERIVATIVE states {     : exact when v held constant; integrates over dt step\n",
        "        rates(v)\n",
        "        n' = ( ninf - n ) / taun\n",
        "}\n",
        "\n",
        "PROCEDURE rates(v (mV)) { :callable from hoc\n",
        "        LOCAL a,qt\n",
        "        qt\t= q10 ^ ( ( celsius - 24 ) / 10 )\n",
        "        a \t= alpn(v)\n",
        "        ninf \t= 1 / ( 1 + a )\n",
        "        taun \t= betn(v) / ( qt * a0n * ( 1 + a ) )\n",
        "\tif (taun<nmax) { taun=nmax }\n",
        "}"
      ],
      "metadata": {
        "colab": {
          "base_uri": "https://localhost:8080/"
        },
        "cellView": "form",
        "id": "O_lm_gXb9po5",
        "outputId": "57437f7e-a2b8-4115-cabe-6f74614a6202"
      },
      "execution_count": 52,
      "outputs": [
        {
          "output_type": "stream",
          "name": "stdout",
          "text": [
            "Writing kdr.mod\n"
          ]
        }
      ]
    },
    {
      "cell_type": "code",
      "source": [
        "#@title Create locally a *.mod file for H currents - launch only once\n",
        "# Taken from ModelDB\n",
        "# https://modeldb.science/184139?tab=2&file=HyunEtAl2015/Na.mod\n",
        "%%writefile h.mod\n",
        "\n",
        "TITLE I-h channel from Magee 1998 for distal dendrites\n",
        "\n",
        "UNITS {\n",
        "\t(mA) = (milliamp)\n",
        "\t(mV) = (millivolt)\n",
        "\n",
        "}\n",
        "\n",
        "PARAMETER {\n",
        "\tv \t\t(mV)\n",
        "        ehd  \t\t(mV)\n",
        "\tcelsius \t(degC)\n",
        "\tghdbar=.0001 \t(mho/cm2)\n",
        "        vhalfl=-81   \t(mV)\n",
        "\tkl=-8\n",
        "        vhalft=-75   \t(mV)\n",
        "        a0t=0.011      \t(/ms)\n",
        "        zetat=2.2    \t(1)\n",
        "        gmt=.4   \t(1)\n",
        "\tq10=4.5\n",
        "\tqtl=1\n",
        "}\n",
        "\n",
        "\n",
        "NEURON {\n",
        "\tSUFFIX hd\n",
        "\tNONSPECIFIC_CURRENT i\n",
        "        RANGE ghdbar, vhalfl\n",
        "        GLOBAL linf,taul\n",
        "}\n",
        "\n",
        "STATE {\n",
        "        l\n",
        "}\n",
        "\n",
        "ASSIGNED {\n",
        "\ti (mA/cm2)\n",
        "        linf\n",
        "        taul\n",
        "        ghd\n",
        "}\n",
        "\n",
        "INITIAL {\n",
        "\trate(v)\n",
        "\tl=linf\n",
        "}\n",
        "\n",
        "\n",
        "BREAKPOINT {\n",
        "\tSOLVE states METHOD cnexp\n",
        "\tghd = ghdbar*l\n",
        "\ti = ghd*(v-ehd)\n",
        "\n",
        "}\n",
        "\n",
        "\n",
        "FUNCTION alpt(v(mV)) {\n",
        "  alpt = exp(0.0378*zetat*(v-vhalft))\n",
        "}\n",
        "\n",
        "FUNCTION bett(v(mV)) {\n",
        "  bett = exp(0.0378*zetat*gmt*(v-vhalft))\n",
        "}\n",
        "\n",
        "DERIVATIVE states {     : exact when v held constant; integrates over dt step\n",
        "        rate(v)\n",
        "        l' =  (linf - l)/taul\n",
        "}\n",
        "\n",
        "PROCEDURE rate(v (mV)) { :callable from hoc\n",
        "        LOCAL a,qt\n",
        "        qt=q10^((celsius-33)/10)\n",
        "        a = alpt(v)\n",
        "        linf = 1/(1 + exp(-(v-vhalfl)/kl))\n",
        ":       linf = 1/(1+ alpl(v))\n",
        "        taul = bett(v)/(qtl*qt*a0t*(1+a))\n",
        "}\n"
      ],
      "metadata": {
        "colab": {
          "base_uri": "https://localhost:8080/"
        },
        "cellView": "form",
        "id": "6GG3xQaqB2T_",
        "outputId": "a5cdf78c-1b99-4c42-94b1-9082d66828da"
      },
      "execution_count": 59,
      "outputs": [
        {
          "output_type": "stream",
          "name": "stdout",
          "text": [
            "Overwriting h.mod\n"
          ]
        }
      ]
    },
    {
      "cell_type": "code",
      "source": [
        "#@title Compile the .mod file - launch only once and then restart the restart the Colab runtime. Go to Runtime -> Restart runtime\n",
        "# Compile the .mod file. This creates a directory named x86_64.\n",
        "!nrnivmodl"
      ],
      "metadata": {
        "colab": {
          "base_uri": "https://localhost:8080/"
        },
        "cellView": "form",
        "id": "7tLdYWuW-v58",
        "outputId": "d26018aa-6c1d-40a1-b38e-4f3009db1658"
      },
      "execution_count": 58,
      "outputs": [
        {
          "output_type": "stream",
          "name": "stdout",
          "text": [
            "/content\n",
            "cfiles =\n",
            "Mod files: \"h.mod\" \"kdr.mod\" \"nav.mod\"\n",
            "\n",
            "MODOBJS= ./h.o ./kdr.o ./nav.o\n",
            " -> \u001b[32mCompiling\u001b[0m mod_func.cpp\n",
            " -> \u001b[32mNMODL\u001b[0m ../h.mod\n",
            "Translating h.mod into /content/x86_64/h.cpp\n",
            "Notice: Assignment to the GLOBAL variable, \"linf\", is not thread safe\n",
            "Notice: Assignment to the GLOBAL variable, \"taul\", is not thread safe\n",
            " -> \u001b[32mCompiling\u001b[0m /content/x86_64/h.cpp\n",
            " => \u001b[32mLINKING\u001b[0m shared library \"/content/x86_64/./libnrnmech.so\"\n",
            "Successfully created x86_64/special\n"
          ]
        }
      ]
    },
    {
      "cell_type": "code",
      "execution_count": 1,
      "metadata": {
        "cellView": "form",
        "id": "K0DRIR7JqWNI"
      },
      "outputs": [],
      "source": [
        "#@title NEURON and other Python Libraries import\n",
        "from neuron import n\n",
        "import matplotlib.pyplot as plt\n",
        "\n",
        "# run standard library for high-level simulation control functions\n",
        "n.load_file(\"stdrun.hoc\")\n",
        "\n",
        "# Only in a jupyter notebook / jupyter lab environment\n",
        "%matplotlib inline"
      ]
    },
    {
      "cell_type": "code",
      "source": [
        "#@title Define and create the model\n",
        "# create model\n",
        "soma  = n.Section(name=\"soma\")\n",
        "soma.L  = 10            # length µm\n",
        "soma.diam = 10          # diameter µm\n",
        "soma.insert('pas')      # add passive properties\n",
        "soma.g_pas = 1/10000    # set the specific membrane\n",
        "                        # resistance to 10000 ohm*cm^2\n",
        "soma.insert('Kdr') # add potassium channel | a mod file\n",
        "soma.gbar_Kdr = 0.1 # set the potassium conductance\n",
        "\n",
        "soma.insert('Na') # add sodium channel | a mod file\n",
        "soma.gbar_Na = 0.5 # set the sodium conductance\n",
        "\n",
        "#soma.insert('hd')\n",
        "#soma.ghdbar_hd = 0.00001 # set the Ih conductance\n",
        "\n",
        "\n",
        "n.celsius = 30\n",
        "\n",
        "# current clamp\n",
        "stim = n.IClamp(soma(0.5))\n",
        "stim.delay = 20         # start of the current injection (ms)\n",
        "stim.dur  = 100         # duration (ms)\n",
        "stim.amp  = 0.01        # amplitude (nA)\n",
        "\n",
        "# record voltage at the soma, the injected current, and the time\n",
        "soma_v = n.Vector()\n",
        "soma_v.record(soma(0.5)._ref_v)\n",
        "\n",
        "stim_current = n.Vector()\n",
        "stim_current.record(stim._ref_i)\n",
        "\n",
        "t = n.Vector()\n",
        "t.record(n._ref_t)"
      ],
      "metadata": {
        "colab": {
          "base_uri": "https://localhost:8080/"
        },
        "id": "AREJfFRhtyie",
        "outputId": "2eb8f382-20af-4642-fcc8-6df59e33d67d"
      },
      "execution_count": 18,
      "outputs": [
        {
          "output_type": "execute_result",
          "data": {
            "text/plain": [
              "Vector[14]"
            ]
          },
          "metadata": {},
          "execution_count": 18
        }
      ]
    },
    {
      "cell_type": "code",
      "source": [
        "#@title Run the numerical simulation { run: \"auto\" }\n",
        "\n",
        "n.t = 0\n",
        "n.tstop = 220 # set the simulation time\n",
        "n.dt = 0.025\n",
        "n.v_init = -73\n",
        "stim.amp = -0.01 #@param {type:\"slider\", min:-0.01, max:0.1, step:0.001}\n",
        "\n",
        "n.run()\n",
        "\n",
        "\n",
        "\n",
        "# plotting\n",
        "f, (ax0, ax1) = plt.subplots(2,1, gridspec_kw = {'height_ratios':[3, 1]})\n",
        "ax0.plot(t,soma_v, 'k')\n",
        "ax1.plot(t,stim_current, 'gray', label='I (nA)')\n",
        "\n",
        "ax0.set_ylabel('Memrabe Potential (mV)')\n",
        "ax1.set_xlabel('Time (ms)')\n",
        "ax1.set_ylabel('Current Injected (nA)')\n",
        "ax0.set_ylim([-90, 50])"
      ],
      "metadata": {
        "colab": {
          "base_uri": "https://localhost:8080/",
          "height": 486
        },
        "id": "E-fW1-mIsExZ",
        "outputId": "f4fc0ff1-67ed-4938-f3ec-5e7b74066733"
      },
      "execution_count": 22,
      "outputs": [
        {
          "output_type": "execute_result",
          "data": {
            "text/plain": [
              "(-90.0, 50.0)"
            ]
          },
          "metadata": {},
          "execution_count": 22
        },
        {
          "output_type": "display_data",
          "data": {
            "text/plain": [
              "<Figure size 640x480 with 2 Axes>"
            ],
            "image/png": "[encoded data removed]"
          },
          "metadata": {}
        }
      ]
    },
    {
      "cell_type": "markdown",
      "source": [
        "See what happens adding a Ih current"
      ],
      "metadata": {
        "id": "nE3_qe0mDPG8"
      }
    },
    {
      "cell_type": "code",
      "source": [],
      "metadata": {
        "id": "3RkbdV9ADRMn"
      },
      "execution_count": null,
      "outputs": []
    }
  ]
}