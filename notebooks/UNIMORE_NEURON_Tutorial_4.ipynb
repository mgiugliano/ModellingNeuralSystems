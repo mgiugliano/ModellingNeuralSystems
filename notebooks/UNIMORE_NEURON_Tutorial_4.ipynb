{
  "nbformat": 4,
  "nbformat_minor": 0,
  "metadata": {
    "colab": {
      "provenance": []
    },
    "kernelspec": {
      "name": "python3",
      "display_name": "Python 3"
    },
    "language_info": {
      "name": "python"
    }
  },
  "cells": [
    {
      "cell_type": "markdown",
      "source": [
        "# The zoo of ion channels"
      ],
      "metadata": {
        "id": "OtFkK7mPl-oH"
      }
    },
    {
      "cell_type": "code",
      "execution_count": 1,
      "metadata": {
        "colab": {
          "base_uri": "https://localhost:8080/"
        },
        "id": "Op67_Nt_l993",
        "outputId": "2ea07e26-0f79-4857-bb06-13e5fbc244b3"
      },
      "outputs": [
        {
          "output_type": "stream",
          "name": "stdout",
          "text": [
            "Collecting neuron\n",
            "  Downloading neuron-9.0.0-cp312-cp312-manylinux_2_27_x86_64.manylinux_2_28_x86_64.whl.metadata (6.5 kB)\n",
            "Collecting find-libpython<=0.4 (from neuron)\n",
            "  Downloading find_libpython-0.4.0-py3-none-any.whl.metadata (2.8 kB)\n",
            "Requirement already satisfied: numpy<=2.2.3,>=1.9.3 in /usr/local/lib/python3.12/dist-packages (from neuron) (2.0.2)\n",
            "Requirement already satisfied: packaging<=25.0,>=22.0 in /usr/local/lib/python3.12/dist-packages (from neuron) (25.0)\n",
            "Requirement already satisfied: setuptools<=80.8.0 in /usr/local/lib/python3.12/dist-packages (from neuron) (75.2.0)\n",
            "Requirement already satisfied: sympy<=1.13.3,>=1.3 in /usr/local/lib/python3.12/dist-packages (from neuron) (1.13.3)\n",
            "Requirement already satisfied: mpmath<1.4,>=1.1.0 in /usr/local/lib/python3.12/dist-packages (from sympy<=1.13.3,>=1.3->neuron) (1.3.0)\n",
            "Downloading neuron-9.0.0-cp312-cp312-manylinux_2_27_x86_64.manylinux_2_28_x86_64.whl (18.1 MB)\n",
            "\u001b[2K   \u001b[90m━━━━━━━━━━━━━━━━━━━━━━━━━━━━━━━━━━━━━━━━\u001b[0m \u001b[32m18.1/18.1 MB\u001b[0m \u001b[31m11.5 MB/s\u001b[0m eta \u001b[36m0:00:00\u001b[0m\n",
            "\u001b[?25hDownloading find_libpython-0.4.0-py3-none-any.whl (8.7 kB)\n",
            "Installing collected packages: find-libpython, neuron\n",
            "Successfully installed find-libpython-0.4.0 neuron-9.0.0\n"
          ]
        }
      ],
      "source": [
        "#@title NEURON install (launch only once)\n",
        "# Note: Google Colab gives you access to an \"instance\".\n",
        "# This is a virtual machine (\"container\" would be more correct) that runs\n",
        "# Linux with already a Python installation.\n",
        "!pip install neuron"
      ]
    },
    {
      "cell_type": "code",
      "source": [
        "#@title Download .mod files of (some) active conductances (launch only once)\n",
        "!curl -O \"https://raw.githubusercontent.com/mgiugliano/ModellingNeuralSystems/refs/heads/main/notebooks/bbp_cortex_mod_files/Ca.mod\"\n",
        "!curl -O \"https://raw.githubusercontent.com/mgiugliano/ModellingNeuralSystems/refs/heads/main/notebooks/bbp_cortex_mod_files/Ca_HVA.mod\"\n",
        "!curl -O \"https://raw.githubusercontent.com/mgiugliano/ModellingNeuralSystems/refs/heads/main/notebooks/bbp_cortex_mod_files/Ca_LVAst.mod\"\n",
        "!curl -O \"https://raw.githubusercontent.com/mgiugliano/ModellingNeuralSystems/refs/heads/main/notebooks/bbp_cortex_mod_files/CaDynamics_E2.mod\"\n",
        "!curl -O \"https://raw.githubusercontent.com/mgiugliano/ModellingNeuralSystems/refs/heads/main/notebooks/bbp_cortex_mod_files/Ih.mod\"\n",
        "!curl -O \"https://raw.githubusercontent.com/mgiugliano/ModellingNeuralSystems/refs/heads/main/notebooks/bbp_cortex_mod_files/Im.mod\"\n",
        "!curl -O \"https://raw.githubusercontent.com/mgiugliano/ModellingNeuralSystems/refs/heads/main/notebooks/bbp_cortex_mod_files/Isinunoisy.mod\"\n",
        "!curl -O \"https://raw.githubusercontent.com/mgiugliano/ModellingNeuralSystems/refs/heads/main/notebooks/bbp_cortex_mod_files/K_Pst.mod\"\n",
        "!curl -O \"https://raw.githubusercontent.com/mgiugliano/ModellingNeuralSystems/refs/heads/main/notebooks/bbp_cortex_mod_files/K_Tst.mod\"\n",
        "!curl -O \"https://raw.githubusercontent.com/mgiugliano/ModellingNeuralSystems/refs/heads/main/notebooks/bbp_cortex_mod_files/KdShu2007.mod\"\n",
        "!curl -O \"https://raw.githubusercontent.com/mgiugliano/ModellingNeuralSystems/refs/heads/main/notebooks/bbp_cortex_mod_files/Nap_Et2.mod\"\n",
        "!curl -O \"https://raw.githubusercontent.com/mgiugliano/ModellingNeuralSystems/refs/heads/main/notebooks/bbp_cortex_mod_files/NaTa_t.mod\"\n",
        "!curl -O \"https://raw.githubusercontent.com/mgiugliano/ModellingNeuralSystems/refs/heads/main/notebooks/bbp_cortex_mod_files/NaTs2_t.mod\"\n",
        "#!curl -O \"https://raw.githubusercontent.com/mgiugliano/ModellingNeuralSystems/refs/heads/main/notebooks/bbp_cortex_mod_files/ProbAMPANMDA_EMS.mod\"\n",
        "#!curl -O \"https://raw.githubusercontent.com/mgiugliano/ModellingNeuralSystems/refs/heads/main/notebooks/bbp_cortex_mod_files/ProbGABAAB_EMS.mod\"\n",
        "!curl -O \"https://raw.githubusercontent.com/mgiugliano/ModellingNeuralSystems/refs/heads/main/notebooks/bbp_cortex_mod_files/SK_E2.mod\"\n",
        "!curl -O \"https://raw.githubusercontent.com/mgiugliano/ModellingNeuralSystems/refs/heads/main/notebooks/bbp_cortex_mod_files/SKv3_1.mod\"\n",
        "#!curl -O \"https://raw.githubusercontent.com/mgiugliano/ModellingNeuralSystems/refs/heads/main/notebooks/bbp_cortex_mod_files/StochKv.mod\""
      ],
      "metadata": {
        "colab": {
          "base_uri": "https://localhost:8080/"
        },
        "id": "rEZr5JDumDtJ",
        "outputId": "c69b825b-86a7-4cab-e34a-aa55351a3c8a"
      },
      "execution_count": 4,
      "outputs": [
        {
          "output_type": "stream",
          "name": "stdout",
          "text": [
            "  % Total    % Received % Xferd  Average Speed   Time    Time     Time  Current\n",
            "                                 Dload  Upload   Total   Spent    Left  Speed\n",
            "100  1002  100  1002    0     0   4765      0 --:--:-- --:--:-- --:--:--  4748\n",
            "  % Total    % Received % Xferd  Average Speed   Time    Time     Time  Current\n",
            "                                 Dload  Upload   Total   Spent    Left  Speed\n",
            "100  1022  100  1022    0     0   4908      0 --:--:-- --:--:-- --:--:--  4913\n",
            "  % Total    % Received % Xferd  Average Speed   Time    Time     Time  Current\n",
            "                                 Dload  Upload   Total   Spent    Left  Speed\n",
            "100  1106  100  1106    0     0   5430      0 --:--:-- --:--:-- --:--:--  5448\n",
            "  % Total    % Received % Xferd  Average Speed   Time    Time     Time  Current\n",
            "                                 Dload  Upload   Total   Spent    Left  Speed\n",
            "100   681  100   681    0     0   3151      0 --:--:-- --:--:-- --:--:--  3138\n",
            "  % Total    % Received % Xferd  Average Speed   Time    Time     Time  Current\n",
            "                                 Dload  Upload   Total   Spent    Left  Speed\n",
            "100   787  100   787    0     0   3631      0 --:--:-- --:--:-- --:--:--  3643\n",
            "  % Total    % Received % Xferd  Average Speed   Time    Time     Time  Current\n",
            "                                 Dload  Upload   Total   Spent    Left  Speed\n",
            "100   853  100   853    0     0   1964      0 --:--:-- --:--:-- --:--:--  1965\n",
            "  % Total    % Received % Xferd  Average Speed   Time    Time     Time  Current\n",
            "                                 Dload  Upload   Total   Spent    Left  Speed\n",
            "100  5520  100  5520    0     0  13108      0 --:--:-- --:--:-- --:--:-- 13111\n",
            "  % Total    % Received % Xferd  Average Speed   Time    Time     Time  Current\n",
            "                                 Dload  Upload   Total   Spent    Left  Speed\n",
            "100  1221  100  1221    0     0   5657      0 --:--:-- --:--:-- --:--:--  5679\n",
            "  % Total    % Received % Xferd  Average Speed   Time    Time     Time  Current\n",
            "                                 Dload  Upload   Total   Spent    Left  Speed\n",
            "100  1109  100  1109    0     0   5671      0 --:--:-- --:--:-- --:--:--  5658\n",
            "  % Total    % Received % Xferd  Average Speed   Time    Time     Time  Current\n",
            "                                 Dload  Upload   Total   Spent    Left  Speed\n",
            "100  1044  100  1044    0     0   5052      0 --:--:-- --:--:-- --:--:--  5067\n",
            "  % Total    % Received % Xferd  Average Speed   Time    Time     Time  Current\n",
            "                                 Dload  Upload   Total   Spent    Left  Speed\n",
            "100  1429  100  1429    0     0   3282      0 --:--:-- --:--:-- --:--:--  3285\n",
            "  % Total    % Received % Xferd  Average Speed   Time    Time     Time  Current\n",
            "                                 Dload  Upload   Total   Spent    Left  Speed\n",
            "100  1088  100  1088    0     0   2423      0 --:--:-- --:--:-- --:--:--  2423\n",
            "  % Total    % Received % Xferd  Average Speed   Time    Time     Time  Current\n",
            "                                 Dload  Upload   Total   Spent    Left  Speed\n",
            "100  1166  100  1166    0     0   3699      0 --:--:-- --:--:-- --:--:--  3701\n",
            "  % Total    % Received % Xferd  Average Speed   Time    Time     Time  Current\n",
            "                                 Dload  Upload   Total   Spent    Left  Speed\n",
            "100   980  100   980    0     0   4712      0 --:--:-- --:--:-- --:--:--  4711\n",
            "  % Total    % Received % Xferd  Average Speed   Time    Time     Time  Current\n",
            "                                 Dload  Upload   Total   Spent    Left  Speed\n",
            "100   807  100   807    0     0   1574      0 --:--:-- --:--:-- --:--:--  1576\n",
            "  % Total    % Received % Xferd  Average Speed   Time    Time     Time  Current\n",
            "                                 Dload  Upload   Total   Spent    Left  Speed\n",
            "100 10067  100 10067    0     0  24092      0 --:--:-- --:--:-- --:--:-- 24083\n"
          ]
        }
      ]
    },
    {
      "cell_type": "code",
      "source": [
        "#@title Compile the .mod file - launch only once and then restart the restart the Colab runtime. Go to Runtime -> Restart runtime\n",
        "# Compile the .mod file. This creates a directory named x86_64.\n",
        "!nrnivmodl"
      ],
      "metadata": {
        "colab": {
          "base_uri": "https://localhost:8080/"
        },
        "cellView": "form",
        "id": "eWnPrtbAmhLP",
        "outputId": "cfa230f8-03a2-4b8e-c03a-970a40e86aba"
      },
      "execution_count": 6,
      "outputs": [
        {
          "output_type": "stream",
          "name": "stdout",
          "text": [
            "/content\n",
            "cfiles =\n",
            "Mod files: \"CaDynamics_E2.mod\" \"Ca_HVA.mod\" \"Ca_LVAst.mod\" \"Ca.mod\" \"Ih.mod\" \"Im.mod\" \"Isinunoisy.mod\" \"KdShu2007.mod\" \"K_Pst.mod\" \"K_Tst.mod\" \"Nap_Et2.mod\" \"NaTa_t.mod\" \"NaTs2_t.mod\" \"SK_E2.mod\" \"SKv3_1.mod\"\n",
            "\n",
            "MODOBJS= ./CaDynamics_E2.o ./Ca_HVA.o ./Ca_LVAst.o ./Ca.o ./Ih.o ./Im.o ./Isinunoisy.o ./KdShu2007.o ./K_Pst.o ./K_Tst.o ./Nap_Et2.o ./NaTa_t.o ./NaTs2_t.o ./SK_E2.o ./SKv3_1.o\n",
            " -> \u001b[32mCompiling\u001b[0m mod_func.cpp\n",
            " => \u001b[32mLINKING\u001b[0m shared library \"/content/x86_64/./libnrnmech.so\"\n",
            "Successfully created x86_64/special\n"
          ]
        }
      ]
    },
    {
      "cell_type": "code",
      "source": [
        "#@title NEURON and other Python Libraries import\n",
        "from neuron import n\n",
        "import matplotlib.pyplot as plt\n",
        "\n",
        "# run standard library for high-level simulation control functions\n",
        "n.load_file(\"stdrun.hoc\")\n",
        "\n",
        "# Only in a jupyter notebook / jupyter lab environment\n",
        "%matplotlib inline"
      ],
      "metadata": {
        "id": "U7oxQGVknEW6"
      },
      "execution_count": 7,
      "outputs": []
    },
    {
      "cell_type": "code",
      "source": [
        "#@title Define and create the model\n",
        "n.celsius = 30\n",
        "\n",
        "# create model\n",
        "soma  = n.Section(name=\"soma\")\n",
        "soma.cm = 1      # capacitance (uF/cm^2)\n",
        "soma.L  = 20     # length µm\n",
        "soma.diam = 20   # diameter µm\n",
        "\n",
        "apc = n.APCount(0.5, sec=soma)  #\n",
        "\n",
        "soma.insert('pas')      # add passive properties\n",
        "soma.g_pas = 1/10000    # set the specific membrane\n",
        "\n",
        "# Insert ALL the mechanisms provided\n",
        "soma.insert('pas')         # Passive leak (built-in)\n",
        "soma.insert('NaTa_t')      # Transient Na+\n",
        "soma.insert('NaTs2_t')     # Shifted transient Na+\n",
        "soma.insert('Nap_Et2')     # Persistent Na+\n",
        "soma.insert('K_Tst')       # Transient K+\n",
        "soma.insert('K_Pst')       # Persistent K+\n",
        "soma.insert('Im')          # M-type K+\n",
        "soma.insert('Ca')          # HVA Ca2+\n",
        "soma.insert('Ca_LVAst')    # LVA Ca2+\n",
        "soma.insert('Ih')          # HCN current\n",
        "soma.insert('CaDynamics_E2') # Calcium dynamics (vital for Ca2+ channels)\n",
        "\n",
        "# Set reversal potentials (good practice)\n",
        "soma.ena = 50\n",
        "soma.ek = -85\n",
        "soma.eca = 120\n",
        "soma.e_pas = -70\n",
        "soma.ehcn = -45 # Reversal for Ih is set in its own .mod file\n",
        "\n",
        "# current clamp\n",
        "stim = n.IClamp(soma(0.5))\n",
        "stim.delay = 10         # start of the current injection (ms)\n",
        "stim.dur  = 2           # duration (ms)\n",
        "stim.amp  = 0.035        # amplitude (nA)\n",
        "\n",
        "stim2 = n.IClamp(soma(0.5))\n",
        "stim2.delay = 100         # start of the current injection (ms)\n",
        "stim2.dur  = 175           # duration (ms)\n",
        "stim2.amp  = 0.01        # amplitude (nA)\n",
        "\n",
        "\n",
        "# record voltage at the soma, the injected current, and the time\n",
        "soma_v = n.Vector()\n",
        "soma_v.record(soma(0.5)._ref_v)\n",
        "\n",
        "stim_current = n.Vector()\n",
        "stim_current.record(stim._ref_i)\n",
        "stim_current1 = n.Vector()\n",
        "stim_current1.record(stim2._ref_i)\n",
        "\n",
        "time = n.Vector()\n",
        "time.record(n._ref_t)\n",
        "\n",
        "Nspikes = n.h.Vector()\n",
        "Nspikes.record(apc._ref_n)\n",
        "\n",
        "n.t = 0\n",
        "n.tstop = 300 # set the simulation time\n",
        "n.dt = 0.025\n",
        "n.v_init = -70\n",
        "\n",
        "n.run()\n",
        "\n",
        "\n",
        "# plotting\n",
        "f, (ax0, ax1) = plt.subplots(2,1, gridspec_kw = {'height_ratios':[4, 1]})\n",
        "ax0.plot(time,soma_v, 'k')\n",
        "ax1.plot(time,stim_current+stim_current1, 'gray', label='I (nA)')\n",
        "ax0.set_ylabel('Memrabe Potential (mV)')\n",
        "ax1.set_xlabel('Time (ms)')\n",
        "ax1.set_ylabel('Current Injected (nA)')\n",
        "ax0.set_ylim([-90, 50])"
      ],
      "metadata": {
        "colab": {
          "base_uri": "https://localhost:8080/",
          "height": 251
        },
        "id": "mUMBTh8vnQUn",
        "outputId": "3339d902-0294-4f67-c4d7-8681df4dd8c8"
      },
      "execution_count": 8,
      "outputs": [
        {
          "output_type": "error",
          "ename": "ValueError",
          "evalue": "argument not a density mechanism name.",
          "traceback": [
            "\u001b[0;31m---------------------------------------------------------------------------\u001b[0m",
            "\u001b[0;31mValueError\u001b[0m                                Traceback (most recent call last)",
            "\u001b[0;32m/tmp/ipython-input-3590769957.py\u001b[0m in \u001b[0;36m<cell line: 0>\u001b[0;34m()\u001b[0m\n\u001b[1;32m     15\u001b[0m \u001b[0;31m# Insert ALL the mechanisms provided\u001b[0m\u001b[0;34m\u001b[0m\u001b[0;34m\u001b[0m\u001b[0m\n\u001b[1;32m     16\u001b[0m \u001b[0msoma\u001b[0m\u001b[0;34m.\u001b[0m\u001b[0minsert\u001b[0m\u001b[0;34m(\u001b[0m\u001b[0;34m'pas'\u001b[0m\u001b[0;34m)\u001b[0m         \u001b[0;31m# Passive leak (built-in)\u001b[0m\u001b[0;34m\u001b[0m\u001b[0;34m\u001b[0m\u001b[0m\n\u001b[0;32m---> 17\u001b[0;31m \u001b[0msoma\u001b[0m\u001b[0;34m.\u001b[0m\u001b[0minsert\u001b[0m\u001b[0;34m(\u001b[0m\u001b[0;34m'NaTa_t'\u001b[0m\u001b[0;34m)\u001b[0m      \u001b[0;31m# Transient Na+\u001b[0m\u001b[0;34m\u001b[0m\u001b[0;34m\u001b[0m\u001b[0m\n\u001b[0m\u001b[1;32m     18\u001b[0m \u001b[0msoma\u001b[0m\u001b[0;34m.\u001b[0m\u001b[0minsert\u001b[0m\u001b[0;34m(\u001b[0m\u001b[0;34m'NaTs2_t'\u001b[0m\u001b[0;34m)\u001b[0m     \u001b[0;31m# Shifted transient Na+\u001b[0m\u001b[0;34m\u001b[0m\u001b[0;34m\u001b[0m\u001b[0m\n\u001b[1;32m     19\u001b[0m \u001b[0msoma\u001b[0m\u001b[0;34m.\u001b[0m\u001b[0minsert\u001b[0m\u001b[0;34m(\u001b[0m\u001b[0;34m'Nap_Et2'\u001b[0m\u001b[0;34m)\u001b[0m     \u001b[0;31m# Persistent Na+\u001b[0m\u001b[0;34m\u001b[0m\u001b[0;34m\u001b[0m\u001b[0m\n",
            "\u001b[0;31mValueError\u001b[0m: argument not a density mechanism name."
          ]
        }
      ]
    },
    {
      "cell_type": "code",
      "source": [
        "!ls -l x86_64/"
      ],
      "metadata": {
        "id": "qfbxhGuaqJv-",
        "colab": {
          "base_uri": "https://localhost:8080/"
        },
        "outputId": "63cf34cf-0022-4779-9587-7091989bdce2"
      },
      "execution_count": 3,
      "outputs": [
        {
          "output_type": "stream",
          "name": "stdout",
          "text": [
            "total 1696\n",
            "-rw-r--r-- 1 root root  21863 Oct 23 15:20 Ca.cpp\n",
            "-rw-r--r-- 1 root root  18953 Oct 23 15:20 CaDynamics_E2.cpp\n",
            "-rw-r--r-- 1 root root  62400 Oct 23 15:23 CaDynamics_E2.o\n",
            "-rw-r--r-- 1 root root  21970 Oct 23 15:20 Ca_HVA.cpp\n",
            "-rw-r--r-- 1 root root  67696 Oct 23 15:23 Ca_HVA.o\n",
            "-rw-r--r-- 1 root root  21446 Oct 23 15:20 Ca_LVAst.cpp\n",
            "-rw-r--r-- 1 root root  64568 Oct 23 15:23 Ca_LVAst.o\n",
            "-rw-r--r-- 1 root root  67664 Oct 23 15:23 Ca.o\n",
            "-rw-r--r-- 1 root root  18703 Oct 23 15:20 Ih.cpp\n",
            "-rw-r--r-- 1 root root  49728 Oct 23 15:23 Ih.o\n",
            "-rw-r--r-- 1 root root  20115 Oct 23 15:20 Im.cpp\n",
            "-rw-r--r-- 1 root root  61296 Oct 23 15:23 Im.o\n",
            "-rw-r--r-- 1 root root      0 Oct 23 15:20 Isinunoisy.cpp\n",
            "-rw-r--r-- 1 root root    936 Oct 23 15:23 Isinunoisy.o\n",
            "-rw-r--r-- 1 root root  21666 Oct 23 15:20 KdShu2007.cpp\n",
            "-rw-r--r-- 1 root root  63528 Oct 23 15:23 KdShu2007.o\n",
            "-rw-r--r-- 1 root root  21531 Oct 23 15:20 K_Pst.cpp\n",
            "-rw-r--r-- 1 root root  65192 Oct 23 15:23 K_Pst.o\n",
            "-rw-r--r-- 1 root root  21285 Oct 23 15:23 K_Tst.cpp\n",
            "-rw-r--r-- 1 root root  64904 Oct 23 15:23 K_Tst.o\n",
            "-rwxr-xr-x 1 root root 403880 Oct 23 15:24 libnrnmech.so\n",
            "-rw-r--r-- 1 root root   4920 Oct 23 15:24 makemod2c_inc\n",
            "-rw-r--r-- 1 root root   1646 Oct 23 15:24 mod_func.cpp\n",
            "-rw-r--r-- 1 root root   5536 Oct 23 15:24 mod_func.o\n",
            "-rw-r--r-- 1 root root  22875 Oct 23 15:23 Nap_Et2.cpp\n",
            "-rw-r--r-- 1 root root  69520 Oct 23 15:23 Nap_Et2.o\n",
            "-rw-r--r-- 1 root root  22380 Oct 23 15:23 NaTa_t.cpp\n",
            "-rw-r--r-- 1 root root  68376 Oct 23 15:23 NaTa_t.o\n",
            "-rw-r--r-- 1 root root  22497 Oct 23 15:23 NaTs2_t.cpp\n",
            "-rw-r--r-- 1 root root  68448 Oct 23 15:23 NaTs2_t.o\n",
            "-rw-r--r-- 1 root root  20977 Oct 23 15:23 SK_E2.cpp\n",
            "-rw-r--r-- 1 root root  64072 Oct 23 15:23 SK_E2.o\n",
            "-rw-r--r-- 1 root root  19687 Oct 23 15:23 SKv3_1.cpp\n",
            "-rw-r--r-- 1 root root  59760 Oct 23 15:23 SKv3_1.o\n",
            "-rwxr-xr-x 1 root root   4627 Oct 23 15:24 special\n",
            "-rwxr-xr-x 1 root root   4627 Oct 23 15:24 special.nrn\n",
            "-rw-r--r-- 1 root root  44761 Oct 23 15:23 StochKv.cpp\n"
          ]
        }
      ]
    },
    {
      "cell_type": "code",
      "source": [],
      "metadata": {
        "id": "v20EaFAxreTk"
      },
      "execution_count": null,
      "outputs": []
    }
  ]
}