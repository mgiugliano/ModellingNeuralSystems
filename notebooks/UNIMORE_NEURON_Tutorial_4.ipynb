{
  "nbformat": 4,
  "nbformat_minor": 0,
  "metadata": {
    "colab": {
      "provenance": []
    },
    "kernelspec": {
      "name": "python3",
      "display_name": "Python 3"
    },
    "language_info": {
      "name": "python"
    }
  },
  "cells": [
    {
      "cell_type": "markdown",
      "source": [
        "# The zoo of ion channels"
      ],
      "metadata": {
        "id": "OtFkK7mPl-oH"
      }
    },
    {
      "cell_type": "code",
      "execution_count": null,
      "metadata": {
        "colab": {
          "base_uri": "https://localhost:8080/"
        },
        "cellView": "form",
        "id": "Op67_Nt_l993",
        "outputId": "3618d7f4-2f46-442a-f3e7-3140a3660ed9"
      },
      "outputs": [
        {
          "output_type": "stream",
          "name": "stdout",
          "text": [
            "Requirement already satisfied: neuron in /usr/local/lib/python3.12/dist-packages (9.0.0)\n",
            "Requirement already satisfied: find-libpython<=0.4 in /usr/local/lib/python3.12/dist-packages (from neuron) (0.4.0)\n",
            "Requirement already satisfied: numpy<=2.2.3,>=1.9.3 in /usr/local/lib/python3.12/dist-packages (from neuron) (2.0.2)\n",
            "Requirement already satisfied: packaging<=25.0,>=22.0 in /usr/local/lib/python3.12/dist-packages (from neuron) (25.0)\n",
            "Requirement already satisfied: setuptools<=80.8.0 in /usr/local/lib/python3.12/dist-packages (from neuron) (75.2.0)\n",
            "Requirement already satisfied: sympy<=1.13.3,>=1.3 in /usr/local/lib/python3.12/dist-packages (from neuron) (1.13.3)\n",
            "Requirement already satisfied: mpmath<1.4,>=1.1.0 in /usr/local/lib/python3.12/dist-packages (from sympy<=1.13.3,>=1.3->neuron) (1.3.0)\n"
          ]
        }
      ],
      "source": [
        "#@title NEURON install (launch only once)\n",
        "# Note: Google Colab gives you access to an \"instance\".\n",
        "# This is a virtual machine (\"container\" would be more correct) that runs\n",
        "# Linux with already a Python installation.\n",
        "!pip install neuron"
      ]
    },
    {
      "cell_type": "code",
      "source": [
        "#@title Download .mod files of (some) active conductances (launch only once)\n",
        "!curl -O \"https://raw.githubusercontent.com/mgiugliano/ModellingNeuralSystems/refs/heads/main/notebooks/bbp_cortex_mod_files/Ca.mod\"\n",
        "!curl -O \"https://raw.githubusercontent.com/mgiugliano/ModellingNeuralSystems/refs/heads/main/notebooks/bbp_cortex_mod_files/Ca_HVA.mod\"\n",
        "!curl -O \"https://raw.githubusercontent.com/mgiugliano/ModellingNeuralSystems/refs/heads/main/notebooks/bbp_cortex_mod_files/Ca_LVAst.mod\"\n",
        "!curl -O \"https://raw.githubusercontent.com/mgiugliano/ModellingNeuralSystems/refs/heads/main/notebooks/bbp_cortex_mod_files/CaDynamics_E2.mod\"\n",
        "!curl -O \"https://raw.githubusercontent.com/mgiugliano/ModellingNeuralSystems/refs/heads/main/notebooks/bbp_cortex_mod_files/Ih.mod\"\n",
        "!curl -O \"https://raw.githubusercontent.com/mgiugliano/ModellingNeuralSystems/refs/heads/main/notebooks/bbp_cortex_mod_files/Im.mod\"\n",
        "!curl -O \"https://raw.githubusercontent.com/mgiugliano/ModellingNeuralSystems/refs/heads/main/notebooks/bbp_cortex_mod_files/Isinunoisy.mod\"\n",
        "!curl -O \"https://raw.githubusercontent.com/mgiugliano/ModellingNeuralSystems/refs/heads/main/notebooks/bbp_cortex_mod_files/K_Pst.mod\"\n",
        "!curl -O \"https://raw.githubusercontent.com/mgiugliano/ModellingNeuralSystems/refs/heads/main/notebooks/bbp_cortex_mod_files/K_Tst.mod\"\n",
        "!curl -O \"https://raw.githubusercontent.com/mgiugliano/ModellingNeuralSystems/refs/heads/main/notebooks/bbp_cortex_mod_files/KdShu2007.mod\"\n",
        "!curl -O \"https://raw.githubusercontent.com/mgiugliano/ModellingNeuralSystems/refs/heads/main/notebooks/bbp_cortex_mod_files/Nap_Et2.mod\"\n",
        "!curl -O \"https://raw.githubusercontent.com/mgiugliano/ModellingNeuralSystems/refs/heads/main/notebooks/bbp_cortex_mod_files/NaTa_t.mod\"\n",
        "!curl -O \"https://raw.githubusercontent.com/mgiugliano/ModellingNeuralSystems/refs/heads/main/notebooks/bbp_cortex_mod_files/NaTs2_t.mod\"\n",
        "!curl -O \"https://raw.githubusercontent.com/mgiugliano/ModellingNeuralSystems/refs/heads/main/notebooks/bbp_cortex_mod_files/ProbAMPANMDA_EMS.mod\"\n",
        "!curl -O \"https://raw.githubusercontent.com/mgiugliano/ModellingNeuralSystems/refs/heads/main/notebooks/bbp_cortex_mod_files/ProbGABAAB_EMS.mod\"\n",
        "!curl -O \"https://raw.githubusercontent.com/mgiugliano/ModellingNeuralSystems/refs/heads/main/notebooks/bbp_cortex_mod_files/SK_E2.mod\"\n",
        "!curl -O \"https://raw.githubusercontent.com/mgiugliano/ModellingNeuralSystems/refs/heads/main/notebooks/bbp_cortex_mod_files/SKv3_1.mod\"\n",
        "!curl -O \"https://raw.githubusercontent.com/mgiugliano/ModellingNeuralSystems/refs/heads/main/notebooks/bbp_cortex_mod_files/StochKv.mod\""
      ],
      "metadata": {
        "colab": {
          "base_uri": "https://localhost:8080/"
        },
        "id": "rEZr5JDumDtJ",
        "outputId": "a79351fb-5043-49e9-adff-07ae125f413c",
        "cellView": "form"
      },
      "execution_count": null,
      "outputs": [
        {
          "output_type": "stream",
          "name": "stdout",
          "text": [
            "  % Total    % Received % Xferd  Average Speed   Time    Time     Time  Current\n",
            "                                 Dload  Upload   Total   Spent    Left  Speed\n",
            "100  1002  100  1002    0     0   2000      0 --:--:-- --:--:-- --:--:--  2004\n",
            "  % Total    % Received % Xferd  Average Speed   Time    Time     Time  Current\n",
            "                                 Dload  Upload   Total   Spent    Left  Speed\n",
            "100  1022  100  1022    0     0   3236      0 --:--:-- --:--:-- --:--:--  3234\n",
            "  % Total    % Received % Xferd  Average Speed   Time    Time     Time  Current\n",
            "                                 Dload  Upload   Total   Spent    Left  Speed\n",
            "100  1106  100  1106    0     0   3970      0 --:--:-- --:--:-- --:--:--  3978\n",
            "  % Total    % Received % Xferd  Average Speed   Time    Time     Time  Current\n",
            "                                 Dload  Upload   Total   Spent    Left  Speed\n",
            "100   681  100   681    0     0   3035      0 --:--:-- --:--:-- --:--:--  3040\n",
            "  % Total    % Received % Xferd  Average Speed   Time    Time     Time  Current\n",
            "                                 Dload  Upload   Total   Spent    Left  Speed\n",
            "100   787  100   787    0     0   3048      0 --:--:-- --:--:-- --:--:--  3050\n",
            "  % Total    % Received % Xferd  Average Speed   Time    Time     Time  Current\n",
            "                                 Dload  Upload   Total   Spent    Left  Speed\n",
            "100   853  100   853    0     0   3644      0 --:--:-- --:--:-- --:--:--  3660\n",
            "  % Total    % Received % Xferd  Average Speed   Time    Time     Time  Current\n",
            "                                 Dload  Upload   Total   Spent    Left  Speed\n",
            "100  5520  100  5520    0     0  22187      0 --:--:-- --:--:-- --:--:-- 22258\n",
            "  % Total    % Received % Xferd  Average Speed   Time    Time     Time  Current\n",
            "                                 Dload  Upload   Total   Spent    Left  Speed\n",
            "100  1221  100  1221    0     0   5317      0 --:--:-- --:--:-- --:--:--  5331\n",
            "  % Total    % Received % Xferd  Average Speed   Time    Time     Time  Current\n",
            "                                 Dload  Upload   Total   Spent    Left  Speed\n",
            "100  1109  100  1109    0     0   4493      0 --:--:-- --:--:-- --:--:--  4489\n",
            "  % Total    % Received % Xferd  Average Speed   Time    Time     Time  Current\n",
            "                                 Dload  Upload   Total   Spent    Left  Speed\n",
            "100  1044  100  1044    0     0   4632      0 --:--:-- --:--:-- --:--:--  4640\n",
            "  % Total    % Received % Xferd  Average Speed   Time    Time     Time  Current\n",
            "                                 Dload  Upload   Total   Spent    Left  Speed\n",
            "100  1429  100  1429    0     0   6564      0 --:--:-- --:--:-- --:--:--  6585\n",
            "  % Total    % Received % Xferd  Average Speed   Time    Time     Time  Current\n",
            "                                 Dload  Upload   Total   Spent    Left  Speed\n",
            "100  1088  100  1088    0     0   4830      0 --:--:-- --:--:-- --:--:--  4814\n",
            "  % Total    % Received % Xferd  Average Speed   Time    Time     Time  Current\n",
            "                                 Dload  Upload   Total   Spent    Left  Speed\n",
            "100  1166  100  1166    0     0   5080      0 --:--:-- --:--:-- --:--:--  5091\n",
            "  % Total    % Received % Xferd  Average Speed   Time    Time     Time  Current\n",
            "                                 Dload  Upload   Total   Spent    Left  Speed\n",
            "100 12651  100 12651    0     0  57214      0 --:--:-- --:--:-- --:--:-- 57244\n",
            "  % Total    % Received % Xferd  Average Speed   Time    Time     Time  Current\n",
            "                                 Dload  Upload   Total   Spent    Left  Speed\n",
            "100 12261  100 12261    0     0  52542      0 --:--:-- --:--:-- --:--:-- 52397\n",
            "  % Total    % Received % Xferd  Average Speed   Time    Time     Time  Current\n",
            "                                 Dload  Upload   Total   Spent    Left  Speed\n",
            "100   980  100   980    0     0   4165      0 --:--:-- --:--:-- --:--:--  4170\n",
            "  % Total    % Received % Xferd  Average Speed   Time    Time     Time  Current\n",
            "                                 Dload  Upload   Total   Spent    Left  Speed\n",
            "100   807  100   807    0     0   3672      0 --:--:-- --:--:-- --:--:--  3684\n",
            "  % Total    % Received % Xferd  Average Speed   Time    Time     Time  Current\n",
            "                                 Dload  Upload   Total   Spent    Left  Speed\n",
            "100 10067  100 10067    0     0  41018      0 --:--:-- --:--:-- --:--:-- 41089\n"
          ]
        }
      ]
    },
    {
      "cell_type": "code",
      "source": [
        "#@title Compile the .mod file - launch only once and then restart the restart the Colab runtime. Go to Runtime -> Restart runtime\n",
        "# Compile the .mod file. This creates a directory named x86_64.\n",
        "!nrnivmodl"
      ],
      "metadata": {
        "colab": {
          "base_uri": "https://localhost:8080/"
        },
        "cellView": "form",
        "id": "eWnPrtbAmhLP",
        "outputId": "c082476a-6241-4718-9eb1-c5082b9b7cdb"
      },
      "execution_count": null,
      "outputs": [
        {
          "output_type": "stream",
          "name": "stdout",
          "text": [
            "/content\n",
            "cfiles =\n",
            "Mod files: \"h.mod\" \"Kdr.mod\" \"Na.mod\" \"wb.mod\"\n",
            "\n",
            "MODOBJS= ./h.o ./Kdr.o ./Na.o ./wb.o\n",
            " -> \u001b[32mCompiling\u001b[0m mod_func.cpp\n",
            " -> \u001b[32mNMODL\u001b[0m ../h.mod\n",
            " -> \u001b[32mNMODL\u001b[0m ../Kdr.mod\n",
            " -> \u001b[32mNMODL\u001b[0m ../Na.mod\n",
            "Translating h.mod into /content/x86_64/h.cpp\n",
            "Translating Kdr.mod into /content/x86_64/Kdr.cpp\n",
            "syntax error:\n",
            " Error: Illegal block at line 4 in file Kdr.mod\n",
            "<!DOCTYPE html>\n",
            " ^\n",
            "make: *** [makemod2c_inc:11: Kdr.cpp] Error 1\n",
            "make: *** Waiting for unfinished jobs....\n",
            "Thread Safe\n",
            "Translating Na.mod into /content/x86_64/Na.cpp\n",
            "syntax error:\n",
            " Error: Illegal block at line 4 in file Na.mod\n",
            "<!DOCTYPE html>\n",
            " ^\n",
            "make: *** [makemod2c_inc:19: Na.cpp] Error 1\n",
            "\n",
            "NOTE: If you are encountering MOD file compilation errors only with NEURON version 9.0 or later\n",
            "refer to the C++ migration guide at https://nrn.readthedocs.io/en/9.0.0/guide/porting_mechanisms_to_cpp.html\n",
            "\n",
            "Traceback (most recent call last):\n",
            "  File \"/usr/local/bin/nrnivmodl\", line 118, in <module>\n",
            "    subprocess.check_call([exe, *sys.argv[1:]])\n",
            "  File \"/usr/lib/python3.12/subprocess.py\", line 413, in check_call\n",
            "    raise CalledProcessError(retcode, cmd)\n",
            "subprocess.CalledProcessError: Command '['/usr/local/lib/python3.12/dist-packages/neuron/.data/bin/nrnivmodl']' returned non-zero exit status 2.\n"
          ]
        }
      ]
    },
    {
      "cell_type": "code",
      "source": [
        "#@title NEURON and other Python Libraries import\n",
        "from neuron import n\n",
        "import matplotlib.pyplot as plt\n",
        "\n",
        "# run standard library for high-level simulation control functions\n",
        "n.load_file(\"stdrun.hoc\")\n",
        "\n",
        "# Only in a jupyter notebook / jupyter lab environment\n",
        "%matplotlib inline"
      ],
      "metadata": {
        "id": "U7oxQGVknEW6"
      },
      "execution_count": null,
      "outputs": []
    },
    {
      "cell_type": "code",
      "source": [
        "#@title Define and create the model\n",
        "n.celsius = 30\n",
        "\n",
        "# create model\n",
        "soma  = n.Section(name=\"soma\")\n",
        "soma.L  = 10            # length µm\n",
        "soma.diam = 10          # diameter µm\n",
        "\n",
        "apc = n.h.APCount(0.5, sec=soma)  #\n",
        "\n",
        "soma.insert('pas')      # add passive properties\n",
        "soma.g_pas = 1/10000    # set the specific membrane\n",
        "\n",
        "\n",
        "\n",
        "\n",
        "#soma.insert('wb') # add potassium channel | a mod file\n",
        "\n",
        "\n",
        "# current clamp\n",
        "stim = n.IClamp(soma(0.5))\n",
        "stim.delay = 10         # start of the current injection (ms)\n",
        "stim.dur  = 2           # duration (ms)\n",
        "stim.amp  = 0.035        # amplitude (nA)\n",
        "\n",
        "stim2 = n.IClamp(soma(0.5))\n",
        "stim2.delay = 100         # start of the current injection (ms)\n",
        "stim2.dur  = 175           # duration (ms)\n",
        "stim2.amp  = 0.01        # amplitude (nA)\n",
        "\n",
        "\n",
        "# record voltage at the soma, the injected current, and the time\n",
        "soma_v = n.Vector()\n",
        "soma_v.record(soma(0.5)._ref_v)\n",
        "\n",
        "stim_current = n.Vector()\n",
        "stim_current.record(stim._ref_i)\n",
        "stim_current1 = n.Vector()\n",
        "stim_current1.record(stim2._ref_i)\n",
        "\n",
        "time = n.Vector()\n",
        "time.record(n._ref_t)\n",
        "\n",
        "Nspikes = n.h.Vector()\n",
        "Nspikes.record(apc._ref_n)\n",
        "\n",
        "n.t = 0\n",
        "n.tstop = 300 # set the simulation time\n",
        "n.dt = 0.025\n",
        "n.v_init = -70\n",
        "\n",
        "n.run()\n",
        "\n",
        "\n",
        "# plotting\n",
        "f, (ax0, ax1) = plt.subplots(2,1, gridspec_kw = {'height_ratios':[4, 1]})\n",
        "ax0.plot(time,soma_v, 'k')\n",
        "ax1.plot(time,stim_current+stim_current1, 'gray', label='I (nA)')\n",
        "ax0.set_ylabel('Memrabe Potential (mV)')\n",
        "ax1.set_xlabel('Time (ms)')\n",
        "ax1.set_ylabel('Current Injected (nA)')\n",
        "ax0.set_ylim([-90, 50])"
      ],
      "metadata": {
        "colab": {
          "base_uri": "https://localhost:8080/",
          "height": 223
        },
        "id": "mUMBTh8vnQUn",
        "outputId": "f520c2ac-d365-42f7-e178-c2ce2d9662cb"
      },
      "execution_count": null,
      "outputs": [
        {
          "output_type": "error",
          "ename": "AttributeError",
          "evalue": "'nrn.Section' object has no attribute 'gbar_nav'",
          "traceback": [
            "\u001b[0;31m---------------------------------------------------------------------------\u001b[0m",
            "\u001b[0;31mAttributeError\u001b[0m                            Traceback (most recent call last)",
            "\u001b[0;32m/tmp/ipython-input-1574598956.py\u001b[0m in \u001b[0;36m<cell line: 0>\u001b[0;34m()\u001b[0m\n\u001b[1;32m     22\u001b[0m                           \u001b[0;31m# resistance to 10000 ohm*cm^2\u001b[0m\u001b[0;34m\u001b[0m\u001b[0;34m\u001b[0m\u001b[0m\n\u001b[1;32m     23\u001b[0m \u001b[0;32melse\u001b[0m\u001b[0;34m:\u001b[0m\u001b[0;34m\u001b[0m\u001b[0;34m\u001b[0m\u001b[0m\n\u001b[0;32m---> 24\u001b[0;31m   \u001b[0msoma\u001b[0m\u001b[0;34m.\u001b[0m\u001b[0mgbar_nav\u001b[0m \u001b[0;34m=\u001b[0m \u001b[0;36m0\u001b[0m\u001b[0;34m\u001b[0m\u001b[0;34m\u001b[0m\u001b[0m\n\u001b[0m\u001b[1;32m     25\u001b[0m \u001b[0;34m\u001b[0m\u001b[0m\n\u001b[1;32m     26\u001b[0m \u001b[0;32mif\u001b[0m \u001b[0mkdr\u001b[0m\u001b[0;34m:\u001b[0m\u001b[0;34m\u001b[0m\u001b[0;34m\u001b[0m\u001b[0m\n",
            "\u001b[0;31mAttributeError\u001b[0m: 'nrn.Section' object has no attribute 'gbar_nav'"
          ]
        }
      ]
    },
    {
      "cell_type": "code",
      "source": [],
      "metadata": {
        "id": "qfbxhGuaqJv-"
      },
      "execution_count": null,
      "outputs": []
    }
  ]
}